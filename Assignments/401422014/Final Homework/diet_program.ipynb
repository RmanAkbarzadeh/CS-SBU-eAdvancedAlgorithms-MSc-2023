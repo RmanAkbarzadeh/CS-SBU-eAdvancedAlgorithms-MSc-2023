{
 "cells": [
  {
   "cell_type": "code",
   "execution_count": 32,
   "id": "ad0660ef",
   "metadata": {},
   "outputs": [],
   "source": [
    "import pandas as pd\n",
    "from pulp import *\n",
    "import random"
   ]
  },
  {
   "cell_type": "markdown",
   "id": "dff472e3",
   "metadata": {},
   "source": [
    "Read the USDA dataset"
   ]
  },
  {
   "cell_type": "code",
   "execution_count": 50,
   "id": "fe39e0ae",
   "metadata": {},
   "outputs": [],
   "source": [
    "df = pd.read_csv(\"USDA.csv\")"
   ]
  },
  {
   "cell_type": "markdown",
   "id": "2d4221bc",
   "metadata": {},
   "source": [
    "PrePocessing data with delete empty or duplicate data"
   ]
  },
  {
   "cell_type": "code",
   "execution_count": 34,
   "id": "488f6e82",
   "metadata": {},
   "outputs": [],
   "source": [
    "df = df.dropna(axis=0, how='any')\n",
    "df.drop_duplicates(subset=None, inplace=True)"
   ]
  },
  {
   "cell_type": "markdown",
   "id": "5fa7d54b",
   "metadata": {},
   "source": [
    "Create a dictionary to store activity multipliers based on activity level"
   ]
  },
  {
   "cell_type": "code",
   "execution_count": null,
   "id": "248f67ea",
   "metadata": {},
   "outputs": [],
   "source": [
    "activity_multipliers = {\n",
    "    'sedentary': 1.2,\n",
    "    'lightly_active': 1.375,\n",
    "    'moderately_active': 1.55,\n",
    "    'very_active': 1.725,\n",
    "    'extra_active': 1.9\n",
    "}"
   ]
  },
  {
   "cell_type": "markdown",
   "id": "712186a9",
   "metadata": {},
   "source": [
    "Take input from the user"
   ]
  },
  {
   "cell_type": "code",
   "execution_count": 38,
   "id": "53e69ebd",
   "metadata": {},
   "outputs": [
    {
     "name": "stdout",
     "output_type": "stream",
     "text": [
      "Enter your age: 23\n",
      "Enter your gender (M/F): m\n",
      "Enter your height (in cm): 188\n",
      "Enter your weight (in kg): 95\n",
      "Enter your activity level (sedentary, lightly_active, moderately_active, very_active, extra_active): very_active\n"
     ]
    }
   ],
   "source": [
    "age = int(input(\"Enter your age: \"))\n",
    "gender = input(\"Enter your gender (M/F): \")\n",
    "height = float(input(\"Enter your height (in cm): \"))\n",
    "weight = float(input(\"Enter your weight (in kg): \"))\n",
    "activity_level = input(\"Enter your activity level (sedentary, lightly_active, moderately_active, very_active, extra_active): \")"
   ]
  },
  {
   "cell_type": "markdown",
   "id": "b0f2c7e3",
   "metadata": {},
   "source": [
    "I implemented the requested constraint using the \"Dietary Guidelines for Americans, 2020-2025. 9th edition\" guideline.\n",
    "Based on the concepts outlined in the guideline and the research I have conducted, we will utilize the concept of Dietary Reference Intakes (DRI).\n",
    "\n",
    "Now,\n",
    "1.What is DRI ?\n",
    "\n",
    "DRI stands for the dietary reference intake, sometimes incorrectly called the daily recommended intake. National Academy introduced the DRIs in 1997 - they serve as a source of multiple daily nutritional requirements in both the US and Canada. To put it simply, the DRIs tell us how much water, calories, macronutrients, and vitamins a given person should consume daily - the entire estimation is based on sex, age, and activity level.\n",
    "\n",
    "2.How to calculate DRI?\n",
    "\n",
    "In order to calculate your daily nutrition, we need to know your daily caloric needs.\n",
    "\n",
    "The amount of calories you should consume daily, multiplied by your activity level allows us to:\n",
    "\n",
    "Calculate your protein intake\n",
    "10-30% of total calories (for adults)\n",
    "\n",
    "Amount of fats\n",
    "20-35% of total calories (for adults)\n",
    "\n",
    "Consumption of carbohydrates\n",
    "45-65% of total calories\n",
    "\n",
    "Amount of iron\n",
    "0.3-0.6% of total calories\n",
    "\n",
    "3.What is BMR ? \n",
    "\n",
    "BMR stands for Basal Metabolic Rate. It represents the amount of energy (calories) that your body needs to maintain basic physiological functions while at rest. These functions include breathing, circulating blood, regulating body temperature, and supporting organ functions.\n",
    "\n",
    "4.What is TTE ?\n",
    "\n",
    "TTE stands for Total Energy Expenditure. It represents the total amount of energy (calories) that your body needs in a day, taking into account your Basal Metabolic Rate (BMR) and your activity level.\n",
    "\n",
    "TTE is calculated by multiplying your BMR by an activity level multiplier. The activity level multiplier adjusts your BMR based on your physical activity level throughout the day. The activity levels commonly used include:\n",
    "\n",
    "Sedentary: Little to no exercise or physical activity.\n",
    "Lightly Active: Light exercise or sports 1-3 days per week.\n",
    "Moderately Active: Moderate exercise or sports 3-5 days per week.\n",
    "Very Active: Hard exercise or sports 6-7 days per week.\n",
    "Extra Active: Very hard exercise or a physically demanding job or lifestyle.\n",
    "\n",
    "By multiplying your BMR by the activity level multiplier corresponding to your activity level, TTE provides an estimate of the total number of calories you need to maintain your current weight and activity level. It helps guide you in managing your calorie intake and designing an appropriate meal plan or dietary regimen.\n",
    "\n",
    "Now,Calculate BMR based on age, gender, height, and weight :"
   ]
  },
  {
   "cell_type": "code",
   "execution_count": 39,
   "id": "b41b41a8",
   "metadata": {},
   "outputs": [],
   "source": [
    "if gender.lower() == 'm':\n",
    "    bmr = 88.362 + (13.397 * weight) + (4.799 * height) - (5.677 * age)\n",
    "else:\n",
    "    bmr = 447.593 + (9.247 * weight) + (3.098 * height) - (4.330 * age)"
   ]
  },
  {
   "cell_type": "markdown",
   "id": "52d1ac7a",
   "metadata": {},
   "source": [
    "Calculate TTE by multiplying BMR with activity level multiplier"
   ]
  },
  {
   "cell_type": "code",
   "execution_count": 40,
   "id": "96f09556",
   "metadata": {},
   "outputs": [
    {
     "name": "stdout",
     "output_type": "stream",
     "text": [
      "Basal Metabolic Rate (BMR): 2132.7180000000003\n",
      "Total Energy Expenditure (TTE): 3678.9385500000008\n"
     ]
    }
   ],
   "source": [
    "activity_multiplier = activity_multipliers.get(activity_level.lower(), 1.2)\n",
    "tte = bmr * activity_multiplier\n",
    "\n",
    "print(\"Basal Metabolic Rate (BMR):\", bmr)\n",
    "print(\"Total Energy Expenditure (TTE):\", tte)"
   ]
  },
  {
   "cell_type": "markdown",
   "id": "de8a3eb9",
   "metadata": {},
   "source": [
    "Create the PuLP problem , we need to use LpMinimize."
   ]
  },
  {
   "cell_type": "code",
   "execution_count": 41,
   "id": "8e9ec617",
   "metadata": {},
   "outputs": [],
   "source": [
    "prob = LpProblem(\"Meal_Diet_Problem\", LpMinimize)"
   ]
  },
  {
   "cell_type": "markdown",
   "id": "7be8f463",
   "metadata": {},
   "source": [
    "We define the required dictionaries"
   ]
  },
  {
   "cell_type": "code",
   "execution_count": 42,
   "id": "0ba15689",
   "metadata": {},
   "outputs": [],
   "source": [
    "food_items = list(df['Description'])\n",
    "calories = dict(zip(food_items, df['Calories']))\n",
    "protein = dict(zip(food_items, df['Protein']))\n",
    "totalFat = dict(zip(food_items, df['TotalFat']))\n",
    "carbohydrate = dict(zip(food_items, df['Carbohydrate']))\n",
    "iron = dict(zip(food_items, df['Iron']))\n",
    "food_vars = LpVariable.dicts(\"Food\", food_items, 0, cat='Integer')"
   ]
  },
  {
   "cell_type": "markdown",
   "id": "02ca5fff",
   "metadata": {},
   "source": [
    "Set constraints for Fat, Carbohydrate, Protein, and Iron based on DRI"
   ]
  },
  {
   "cell_type": "code",
   "execution_count": 43,
   "id": "85c512f9",
   "metadata": {},
   "outputs": [],
   "source": [
    "fat_dri = 0.25 * tte / 9  # DRI for Fat (25% of TTE)\n",
    "carb_dri = 0.5 * tte / 4  # DRI for Carbohydrate (50% of TTE)\n",
    "protein_dri = 0.15 * tte / 4  # DRI for Protein (15% of TTE)\n",
    "iron_dri = 0.0043 * tte  # DRI for Iron (0.43% of TTE)\n",
    "\n",
    "# Define maximum constraint values\n",
    "max_fat = 0.35 * tte / 9\n",
    "max_carb = 0.65 * tte / 4\n",
    "max_protein = 0.3 * tte / 4\n",
    "max_iron = 2 * (0.0043 * tte)"
   ]
  },
  {
   "cell_type": "markdown",
   "id": "3897b1f2",
   "metadata": {},
   "source": [
    "Set the objective function to minimize total calories"
   ]
  },
  {
   "cell_type": "code",
   "execution_count": 44,
   "id": "3d805b1d",
   "metadata": {},
   "outputs": [],
   "source": [
    "prob += lpSum([calories[f] * food_vars[f] for f in food_items]), \"TotalCalories\""
   ]
  },
  {
   "cell_type": "markdown",
   "id": "5fab8910",
   "metadata": {},
   "source": [
    "Adding the Calorie,Fat,Carbohydrate,Protein and Iron constraints to the problem"
   ]
  },
  {
   "cell_type": "code",
   "execution_count": 45,
   "id": "df36dc5f",
   "metadata": {},
   "outputs": [],
   "source": [
    "# Calories\n",
    "prob += lpSum([calories[f] * food_vars[f] for f in food_items]) >= tte-200, \"CaloriesMinimum\"\n",
    "prob += lpSum([calories[f] * food_vars[f] for f in food_items]) <= tte + 200, \"CaloriesMaximum\"\n",
    "\n",
    "# Fat\n",
    "prob += lpSum([totalFat[f] * food_vars[f] for f in food_items]) >= fat_dri, \"FatMinimum\"\n",
    "prob += lpSum([totalFat[f] * food_vars[f] for f in food_items]) <= max_fat, \"FatMaximum\"\n",
    "\n",
    "# Carbohydrate\n",
    "prob += lpSum([carbohydrate[f] * food_vars[f] for f in food_items]) >= carb_dri, \"CarbsMinimum\"\n",
    "prob += lpSum([carbohydrate[f] * food_vars[f] for f in food_items]) <= max_carb, \"CarbsMaximum\"\n",
    "\n",
    "# Protein\n",
    "prob += lpSum([protein[f] * food_vars[f] for f in food_items]) >= protein_dri, \"ProteinMinimum\"\n",
    "prob += lpSum([protein[f] * food_vars[f] for f in food_items]) <= max_protein, \"ProteinMaximum\"\n",
    "\n",
    "# Iron\n",
    "prob += lpSum([iron[f] * food_vars[f] for f in food_items]) >= iron_dri, \"IronMinimum\"\n",
    "prob += lpSum([iron[f] * food_vars[f] for f in food_items]) <= max_iron, \"IronMaximum\""
   ]
  },
  {
   "cell_type": "markdown",
   "id": "75e87703",
   "metadata": {},
   "source": [
    "The problem is solved using PuLP's Solver"
   ]
  },
  {
   "cell_type": "code",
   "execution_count": 46,
   "id": "2d1a1b04",
   "metadata": {},
   "outputs": [
    {
     "data": {
      "text/plain": [
       "1"
      ]
     },
     "execution_count": 46,
     "metadata": {},
     "output_type": "execute_result"
    }
   ],
   "source": [
    "prob.solve()"
   ]
  },
  {
   "cell_type": "markdown",
   "id": "2a7dd2d5",
   "metadata": {},
   "source": [
    "Print the problem solution status"
   ]
  },
  {
   "cell_type": "code",
   "execution_count": 47,
   "id": "eeca6def",
   "metadata": {},
   "outputs": [
    {
     "name": "stdout",
     "output_type": "stream",
     "text": [
      "Status: Optimal\n"
     ]
    }
   ],
   "source": [
    "print(\"Status:\", LpStatus[prob.status])"
   ]
  },
  {
   "cell_type": "markdown",
   "id": "d46d5ce9",
   "metadata": {},
   "source": [
    "Now that the problem has been resolved, we want to create a dietary plan."
   ]
  },
  {
   "cell_type": "code",
   "execution_count": 51,
   "id": "40d7a2a1",
   "metadata": {},
   "outputs": [
    {
     "name": "stdout",
     "output_type": "stream",
     "text": [
      "--------------------------------------------------------------------------------------------------------------\n",
      "Total Calories: 3479.0\n",
      "Total Fat: 115.3\n",
      "Total Carbohydrate: 528.12\n",
      "Total Iron: 31.629999999999995\n",
      "\n",
      "Meal Plan:\n",
      "--------------------------------------------------------------------------------------------------------------\n",
      "Breakfast:\n",
      "- MARGARINE-LIKE,VEG OIL SPRD,20% FAT,W/ SALT: 1.0\n",
      "- ALCOHOLIC BEV,BEER,LT: 2.0\n",
      "Total Calories: 233.0\n",
      "Total Fat: 19.5 g\n",
      "Total Carbohydrate: 3.6799999999999997 g\n",
      "Total Iron: 0.06 mg\n",
      "--------------------------------------------------------------------------------------------------------------\n",
      "Morning_snack:\n",
      "- ICE CREAMS,VANILLA,FAT FREE: 5.0\n",
      "Total Calories: 690.0\n",
      "Total Fat: 0.0 g\n",
      "Total Carbohydrate: 150.29999999999998 g\n",
      "Total Iron: 0.0 mg\n",
      "--------------------------------------------------------------------------------------------------------------\n",
      "Lunch:\n",
      "- MILK,FLUID,1% FAT,WO/ ADDED VIT A & VIT D: 2.0\n",
      "- PEPPER,RED OR CAYENNE: 4.0\n",
      "- ALCOHOLIC BEV,DISTILLED,ALL (GIN,RUM,VODKA,WHISKEY) 86 PROOF: 1.0\n",
      "- BREAKFAST TYPE DRK,ORANGE FLAVOR,RED SUGAR: 1.0\n",
      "- ENERGY DRK,AMP,SUGAR FREE: 1.0\n",
      "- SYRUPS,DIETETIC: 1.0\n",
      "Total Calories: 1652.0\n",
      "Total Fat: 71.02 g\n",
      "Total Carbohydrate: 287.73 g\n",
      "Total Iron: 31.299999999999997 mg\n",
      "--------------------------------------------------------------------------------------------------------------\n",
      "Afternoon_snack:\n",
      "- USDA COMMODITY,CHS,CHEDDAR,RED FAT: 1.0\n",
      "- SOUP,STOCK,FISH,HOME-PREPARED: 8.0\n",
      "Total Calories: 418.0\n",
      "Total Fat: 24.78 g\n",
      "Total Carbohydrate: 2.0 g\n",
      "Total Iron: 0.21000000000000002 mg\n",
      "--------------------------------------------------------------------------------------------------------------\n",
      "Dinner:\n",
      "- ALCOHOLIC BEV,DISTILLED,GIN,90 PROOF: 1.0\n",
      "- WATER,NON-CARBONATED,FRUIT FLAVORS,SWTND W/ LO CAL SWTNR: 14.0\n",
      "- GELATIN DSSRT,DRY MIX,RED CAL,W/ ASPRT: 1.0\n",
      "- PECTIN,LIQUID: 1.0\n",
      "Total Calories: 486.0\n",
      "Total Fat: 0.0 g\n",
      "Total Carbohydrate: 84.40999999999998 g\n",
      "Total Iron: 0.06 mg\n",
      "--------------------------------------------------------------------------------------------------------------\n"
     ]
    }
   ],
   "source": [
    "meal_percentages = {\n",
    "    'breakfast': 0.25,\n",
    "    'morning_snack': 0.1,\n",
    "    'lunch': 0.3,\n",
    "    'afternoon_snack': 0.1,\n",
    "    'dinner': 0.25\n",
    "}\n",
    "\n",
    "\n",
    "if LpStatus[prob.status] == 'Optimal':\n",
    "    total_calories = value(prob.objective)\n",
    "    total_fat = 0\n",
    "    total_carbohydrate = 0\n",
    "    total_iron = 0\n",
    "\n",
    "    # Create empty meal lists\n",
    "    meals = {meal: [] for meal in meal_percentages.keys()}\n",
    "\n",
    "    # Distribute food items into meals\n",
    "    for food_item in food_items:\n",
    "        food_var = food_vars[food_item]\n",
    "        if food_var.varValue is not None and food_var.varValue > 0:\n",
    "            food_amount = food_var.varValue\n",
    "\n",
    "            # Select a random meal based on the percentages\n",
    "            meal = random.choices(list(meal_percentages.keys()), list(meal_percentages.values()))[0]\n",
    "\n",
    "            # Append the food item to the selected meal\n",
    "            meals[meal].append((food_item, food_amount))\n",
    "\n",
    "            # Calculate total nutritional values\n",
    "            food_fat = totalFat.get(food_item, 0)\n",
    "            food_carbohydrate = carbohydrate.get(food_item, 0)\n",
    "            food_iron = iron.get(food_item, 0)\n",
    "\n",
    "            total_fat += food_amount * food_fat\n",
    "            total_carbohydrate += food_amount * food_carbohydrate\n",
    "            total_iron += food_amount * food_iron\n",
    "\n",
    "    # Check if any meals are empty and assign one food item randomly to each empty meal\n",
    "    empty_meals = [meal for meal, items in meals.items() if not items]\n",
    "    for meal in empty_meals:\n",
    "        food_item = random.choice(food_items)\n",
    "        food_amount = 1  # Assign a fixed amount of 1 for simplicity\n",
    "\n",
    "        meals[meal].append((food_item, food_amount))\n",
    "\n",
    "        # Update the total nutritional values\n",
    "        food_fat = totalFat.get(food_item, 0)\n",
    "        food_carbohydrate = carbohydrate.get(food_item, 0)\n",
    "        food_iron = iron.get(food_item, 0)\n",
    "\n",
    "        total_fat += food_amount * food_fat\n",
    "        total_carbohydrate += food_amount * food_carbohydrate\n",
    "        total_iron += food_amount * food_iron\n",
    "\n",
    "    print(\"-\" * 110)\n",
    "    print(\"Total Calories:\", total_calories)\n",
    "    print(\"Total Fat:\", total_fat)\n",
    "    print(\"Total Carbohydrate:\", total_carbohydrate)\n",
    "    print(\"Total Iron:\", total_iron)\n",
    "\n",
    "    # Print the final meal plan\n",
    "    print(\"\\nMeal Plan:\")\n",
    "    print(\"-\" * 110)\n",
    "    for meal, items in meals.items():\n",
    "        meal_calories = sum(calories[food_item] * food_amount for food_item, food_amount in items)\n",
    "        meal_fat = sum(totalFat[food_item] * food_amount for food_item, food_amount in items)\n",
    "        meal_carbohydrate = sum(carbohydrate[food_item] * food_amount for food_item, food_amount in items)\n",
    "        meal_iron = sum(iron[food_item] * food_amount for food_item, food_amount in items)\n",
    "\n",
    "        print(f\"{meal.capitalize()}:\")\n",
    "        for food_item, food_amount in items:\n",
    "            print(f\"- {food_item}: {food_amount}\")\n",
    "\n",
    "        print(f\"Total Calories: {meal_calories}\")\n",
    "        print(f\"Total Fat: {meal_fat} g\")\n",
    "        print(f\"Total Carbohydrate: {meal_carbohydrate} g\")\n",
    "        print(f\"Total Iron: {meal_iron} mg\")\n",
    "        print(\"-\" * 110)\n",
    "else:\n",
    "    print(\"No solution found.\")"
   ]
  },
  {
   "cell_type": "code",
   "execution_count": null,
   "id": "5cad683e",
   "metadata": {},
   "outputs": [],
   "source": []
  }
 ],
 "metadata": {
  "kernelspec": {
   "display_name": "Python 3 (ipykernel)",
   "language": "python",
   "name": "python3"
  },
  "language_info": {
   "codemirror_mode": {
    "name": "ipython",
    "version": 3
   },
   "file_extension": ".py",
   "mimetype": "text/x-python",
   "name": "python",
   "nbconvert_exporter": "python",
   "pygments_lexer": "ipython3",
   "version": "3.10.7"
  }
 },
 "nbformat": 4,
 "nbformat_minor": 5
}
